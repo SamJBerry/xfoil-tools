{
 "cells": [
  {
   "cell_type": "markdown",
   "metadata": {
    "collapsed": true,
    "pycharm": {
     "name": "#%% md\n"
    }
   },
   "source": [
    "# ANN to model Cl"
   ]
  },
  {
   "cell_type": "code",
   "execution_count": 4,
   "outputs": [],
   "source": [
    "# Create dataset\n",
    "import os\n",
    "import pandas as pd\n",
    "import numpy as np\n",
    "from torch.utils.data import Dataset\n",
    "import torch\n",
    "\n",
    "results_dir = \"results/\"\n",
    "\n",
    "\n",
    "class AerofoilLiftSample:\n",
    "    def __init__(self, file_name):\n",
    "        self.file_name = file_name\n",
    "        aerofoil_data = self.file_name.split(\"_\")\n",
    "        naca = aerofoil_data[1]\n",
    "        self.camber = naca[0]\n",
    "        self.camber_pos = naca[1]\n",
    "        self.thickness = naca[2:3]\n",
    "        self.reynolds = aerofoil_data[2]\n",
    "        self.mach = aerofoil_data[3]\n",
    "        self.alpha = aerofoil_data[4].split(\".\")[0]\n",
    "\n",
    "    def __str__(self):\n",
    "        return self.file_name\n",
    "\n",
    "    def tensor(self):\n",
    "        return torch.tensor([float(self.camber),\n",
    "                             float(self.camber_pos),\n",
    "                             float(self.thickness),\n",
    "                             float(self.reynolds),\n",
    "                             float(self.mach),\n",
    "                             float(self.alpha),\n",
    "                             float(self.cl())],\n",
    "                            dtype=torch.int32)\n",
    "\n",
    "    def cp_data(self):\n",
    "        file = results_dir + self.file_name\n",
    "        df = pd.read_csv(file, sep=\"\\s+\", skiprows=[0,1,2], names=[\"x\", \"y\", \"Cp\"], dtype=float)\n",
    "        return df\n",
    "\n",
    "    def cl(self):\n",
    "        return np.trapz(self.cp_data()[\"Cp\"], self.cp_data()[\"x\"])\n",
    "\n",
    "class AerofoilLiftDataset(Dataset):\n",
    "    \"\"\"Aerofoil Coefficient of Lift Dataset\"\"\"\n",
    "    def __init__(self):\n",
    "        self.samples = self.load_samples()\n",
    "\n",
    "    def __len__(self):\n",
    "        return len(self.samples)\n",
    "\n",
    "    def __getitem__(self, item):\n",
    "        return self.samples[item].tensor()\n",
    "\n",
    "    def load_samples(self):\n",
    "        samples = []\n",
    "        for file in os.listdir(results_dir):\n",
    "            samples.append(AerofoilLiftSample(file))\n",
    "        return samples"
   ],
   "metadata": {
    "collapsed": false,
    "pycharm": {
     "name": "#%%\n"
    }
   }
  },
  {
   "cell_type": "code",
   "execution_count": 7,
   "outputs": [
    {
     "name": "stdout",
     "output_type": "stream",
     "text": [
      "tensor([      0,       0,       0, 1000000,       0,      -2,       0],\n",
      "       dtype=torch.int32)\n"
     ]
    },
    {
     "name": "stderr",
     "output_type": "stream",
     "text": [
      "C:\\Users\\Sam\\AppData\\Local\\Temp/ipykernel_10284/2198002848.py:27: DeprecationWarning: an integer is required (got type float).  Implicit conversion to integers using __int__ is deprecated, and may be removed in a future version of Python.\n",
      "  return torch.tensor([float(self.camber),\n"
     ]
    }
   ],
   "source": [
    "from torch.utils.data import DataLoader, random_split\n",
    "\n",
    "dataset = AerofoilLiftDataset()\n",
    "print(dataset[0])\n",
    "\n",
    "train_size = int(0.6 * len(dataset))\n",
    "test_size = len(dataset) - train_size\n",
    "train_dataset, test_dataset = random_split(dataset, [train_size, test_size])\n",
    "\n",
    "train_dataLoader = DataLoader(train_dataset, batch_size=128,shuffle=True)\n",
    "test_dataLoader = DataLoader(test_dataset, batch_size=128, shuffle=True)"
   ],
   "metadata": {
    "collapsed": false,
    "pycharm": {
     "name": "#%%\n"
    }
   }
  }
 ],
 "metadata": {
  "kernelspec": {
   "name": "pycharm-3c5762b9",
   "language": "python",
   "display_name": "PyCharm (xfoil-tools)"
  },
  "language_info": {
   "codemirror_mode": {
    "name": "ipython",
    "version": 2
   },
   "file_extension": ".py",
   "mimetype": "text/x-python",
   "name": "python",
   "nbconvert_exporter": "python",
   "pygments_lexer": "ipython2",
   "version": "2.7.6"
  }
 },
 "nbformat": 4,
 "nbformat_minor": 0
}