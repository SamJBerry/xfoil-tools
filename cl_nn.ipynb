{
 "cells": [
  {
   "cell_type": "markdown",
   "metadata": {
    "collapsed": true,
    "pycharm": {
     "name": "#%% md\n"
    }
   },
   "source": [
    "# ANN to model Cl"
   ]
  },
  {
   "cell_type": "code",
   "execution_count": 1,
   "metadata": {
    "collapsed": false,
    "pycharm": {
     "name": "#%%\n"
    }
   },
   "outputs": [],
   "source": [
    "# Create dataset\n",
    "import os\n",
    "import pandas as pd\n",
    "import numpy as np\n",
    "from torch.utils.data import Dataset\n",
    "import torch\n",
    "\n",
    "results_dir = \"results/\"\n",
    "cuda0 = torch.device(\"cuda:0\")\n",
    "\n",
    "class AerofoilLiftSample:\n",
    "    def __init__(self, file_name):\n",
    "        self.file_name = file_name\n",
    "        aerofoil_data = self.file_name.split(\"_\")\n",
    "        naca = aerofoil_data[1]\n",
    "        self.camber = naca[0]\n",
    "        self.camber_pos = naca[1]\n",
    "        self.thickness = naca[2:3]\n",
    "        self.reynolds = aerofoil_data[2]\n",
    "        self.mach = aerofoil_data[3]\n",
    "        self.alpha = aerofoil_data[4].split(\".\")[0]\n",
    "\n",
    "    def __str__(self):\n",
    "        return self.file_name\n",
    "\n",
    "    def feature(self):\n",
    "        return torch.tensor([[self.cp_data()[\"x\"][:80],self.cp_data()[\"y\"][:80]],\n",
    "                            [self.cp_data()[\"x\"][80:],self.cp_data()[\"y\"][80:]]\n",
    "                            ],\n",
    "                            dtype=torch.float32, device=cuda0)\n",
    "    def airfoil_params(self):\n",
    "        return torch.tensor([float(self.camber),\n",
    "                float(self.camber_pos),\n",
    "                float(self.thickness),\n",
    "                float(self.reynolds),\n",
    "                float(self.mach),\n",
    "                float(self.alpha)], dtype=torch.float32, device=cuda0)\n",
    "\n",
    "    def cp_data(self):\n",
    "        file = results_dir + self.file_name\n",
    "        df = pd.read_csv(file, sep=\"\\s+\", skiprows=[0,1,2], names=[\"x\", \"y\", \"Cp\"], dtype=float, on_bad_lines='skip')\n",
    "        return df\n",
    "\n",
    "    def cl(self):\n",
    "        return torch.tensor(np.trapz(self.cp_data()[\"Cp\"], self.cp_data()[\"x\"]), dtype=torch.float, device=cuda0)\n",
    "\n",
    "    def label(self):\n",
    "        return torch.tensor([[self.cp_data()[\"Cp\"][:80],self.cp_data()[\"Cp\"][80:]]], dtype=torch.float, device=cuda0)\n",
    "\n",
    "class AerofoilLiftDataset(Dataset):\n",
    "    \"\"\"Aerofoil Coefficient of Lift Dataset\"\"\"\n",
    "    def __init__(self):\n",
    "        self.samples = self.load_samples()\n",
    "\n",
    "    def __len__(self):\n",
    "        return len(self.samples)\n",
    "\n",
    "    def __getitem__(self, item):\n",
    "        return self.samples[item].feature(), self.samples[item].airfoil_params(), self.samples[item].label()\n",
    "\n",
    "    def load_samples(self):\n",
    "        samples = []\n",
    "        for file in os.listdir(results_dir):\n",
    "            if \"cpwr\" in file:\n",
    "                samples.append(AerofoilLiftSample(file))\n",
    "        return samples\n"
   ]
  },
  {
   "cell_type": "code",
   "execution_count": 9,
   "metadata": {
    "collapsed": false,
    "pycharm": {
     "name": "#%%\n"
    }
   },
   "outputs": [
    {
     "name": "stdout",
     "output_type": "stream",
     "text": [
      "torch.Size([2, 2, 80])\n"
     ]
    }
   ],
   "source": [
    "from torch.utils.data import DataLoader, random_split\n",
    "\n",
    "dataset = AerofoilLiftDataset()\n",
    "\n",
    "print(dataset[0][0].size())\n",
    "\n",
    "train_size = int(0.8 * len(dataset))\n",
    "test_size = len(dataset) - train_size\n",
    "train_dataset, test_dataset = random_split(dataset, [train_size, test_size])\n",
    "\n",
    "\n",
    "train_dataLoader = DataLoader(train_dataset, batch_size=32)\n",
    "test_dataLoader = DataLoader(test_dataset, batch_size=32)"
   ]
  },
  {
   "cell_type": "code",
   "execution_count": 3,
   "metadata": {
    "collapsed": false,
    "pycharm": {
     "name": "#%%\n"
    }
   },
   "outputs": [],
   "source": [
    "from torch.utils.tensorboard import SummaryWriter\n",
    "\n",
    "\n",
    "class CNNModel(torch.nn.Module):\n",
    "    def __init__(self):\n",
    "        super(CNNModel, self).__init__()\n",
    "        self.cnn1 = torch.nn.Conv2d(in_channels=2, out_channels=2, kernel_size=3, padding=1, device=cuda0)\n",
    "        self.cnn2 = torch.nn.Conv2d(in_channels=2, out_channels=1, kernel_size=4, padding=1, device=cuda0)\n",
    "        self.relu = torch.nn.ReLU()\n",
    "        self.l1 = torch.nn.Linear(85, 1024, device=cuda0)\n",
    "        self.l2 = torch.nn.Linear(1024, 640, device=cuda0)\n",
    "        self.l3 = torch.nn.Linear(640, 79, device=cuda0)\n",
    "        self.tcnn1 = torch.nn.Conv2d(in_channels=1, out_channels=1, kernel_size=2, padding=1, device=cuda0)\n",
    "\n",
    "    def forward(self, pos_data, airfoil_data):\n",
    "        x1 = self.cnn1(pos_data)\n",
    "        c2 = self.cnn2(x1)\n",
    "        x2 = torch.cat((c2.squeeze(), airfoil_data), dim=1)\n",
    "        x3 = self.relu(x2)\n",
    "        x4 = self.l1(x3)\n",
    "        x5 = self.l2(self.relu(x4))\n",
    "        x6 = self.l3(self.relu(x5))\n",
    "        x7 = self.tcnn1(x6[:,None,None,:])\n",
    "        return x7\n",
    "\n",
    "model = CNNModel()\n",
    "loss_fn = torch.nn.L1Loss()\n",
    "optim = torch.optim.Adam(model.parameters(), lr =0.0005)\n"
   ]
  },
  {
   "cell_type": "code",
   "execution_count": 4,
   "metadata": {
    "collapsed": false,
    "pycharm": {
     "name": "#%%\n"
    }
   },
   "outputs": [],
   "source": [
    "import pandas as pd\n",
    "import matplotlib.pyplot as plt\n",
    "\n",
    "def plot_results(idx=4):\n",
    "    df = pd.DataFrame()\n",
    "\n",
    "    test_data = test_dataset[idx]\n",
    "    test_feature, test_param, test_cp_data = test_data\n",
    "    test_feature = test_feature.repeat(2,1,1,1)\n",
    "    test_param = test_param.repeat(2,1)\n",
    "    result = model(test_feature, test_param).cpu().detach()\n",
    "    result_cp = torch.unbind(result,0)[0].squeeze().cpu().detach().tolist()\n",
    "    test_cp = torch.unbind(test_cp_data, 0)[0].squeeze().cpu().detach().tolist()\n",
    "    cords = torch.unbind(test_feature,0)[0].squeeze().cpu().detach().tolist()\n",
    "    #print(result_cp[0], result_cp[1])\n",
    "    df[\"Cp\"] = [*result_cp[0], *result_cp[1]]\n",
    "    df[\"x\"] = [*cords[0][0], *cords[1][0]]\n",
    "    df[\"y\"] = [*cords[0][1], *cords[1][1]]\n",
    "    df[\"valid_Cp\"] = [*test_cp[0], *test_cp[1]]\n",
    "    df.head(300)\n",
    "    fig, ax1 = plt.subplots()\n",
    "    ax1.plot(df[\"x\"], df[\"Cp\"], label=\"NN\")\n",
    "    ax1.plot(df[\"x\"], df[\"valid_Cp\"], label=\"XFoil\")\n",
    "    ax1.set_ylabel(\"Cp\")\n",
    "    ax1.set_xlabel(\"x\")\n",
    "    ax1.legend()\n",
    "    cp_lim = ax1.get_ylim()\n",
    "    ax1.set_ylim(cp_lim[1], cp_lim[0])\n",
    "    ax2= ax1.twinx()\n",
    "    ax2.plot(df[\"x\"], df[\"y\"], color=\"k\")\n",
    "    ax2.set_ylim(-0.4,0.4)\n",
    "    ax2.axis('off')\n",
    "    plt.show()\n",
    "\n"
   ]
  },
  {
   "cell_type": "code",
   "execution_count": 11,
   "metadata": {
    "collapsed": false,
    "pycharm": {
     "name": "#%%\n"
    }
   },
   "outputs": [
    {
     "name": "stdout",
     "output_type": "stream",
     "text": [
      "Epoch: 0\n"
     ]
    },
    {
     "name": "stderr",
     "output_type": "stream",
     "text": [
      "100%|██████████| 538/538 [02:15<00:00,  3.96it/s]\n",
      "100%|██████████| 135/135 [00:32<00:00,  4.15it/s]\n"
     ]
    },
    {
     "data": {
      "image/png": "[encoded data removed]",
      "text/plain": [
       "<Figure size 432x288 with 2 Axes>"
      ]
     },
     "metadata": {
      "needs_background": "light"
     },
     "output_type": "display_data"
    },
    {
     "name": "stdout",
     "output_type": "stream",
     "text": [
      "Epoch: 1\n"
     ]
    },
    {
     "name": "stderr",
     "output_type": "stream",
     "text": [
      "100%|██████████| 538/538 [02:13<00:00,  4.02it/s]\n"
     ]
    },
    {
     "data": {
      "image/png": "[encoded data removed]",
      "text/plain": [
       "<Figure size 432x288 with 2 Axes>"
      ]
     },
     "metadata": {
      "needs_background": "light"
     },
     "output_type": "display_data"
    },
    {
     "name": "stderr",
     "output_type": "stream",
     "text": [
      "C:\\Users\\Sam\\AppData\\Local\\Temp/ipykernel_6212/3093481896.py:23: RuntimeWarning: Mean of empty slice\n",
      "  writer.add_scalar('validation_loss', np.nanmean(validation_loss),epoch)\n"
     ]
    },
    {
     "name": "stdout",
     "output_type": "stream",
     "text": [
      "Epoch: 2\n"
     ]
    },
    {
     "name": "stderr",
     "output_type": "stream",
     "text": [
      " 48%|████▊     | 257/538 [01:03<01:06,  4.25it/s]"
     ]
    }
   ],
   "source": [
    "from tqdm import tqdm\n",
    "writer = SummaryWriter()\n",
    "for epoch in range(500):\n",
    "    print(f\"Epoch: {epoch}\")\n",
    "    training_loss = []\n",
    "    validation_loss = []\n",
    "    for train_features, train_params, train_labels in tqdm(train_dataLoader):\n",
    "        y_pred = model(train_features, train_params)\n",
    "        loss = loss_fn(y_pred, train_labels)\n",
    "        optim.zero_grad(set_to_none=True)\n",
    "        loss.backward()\n",
    "        optim.step()\n",
    "        training_loss.append(loss.item())\n",
    "    if epoch % 5 ==0:\n",
    "        with torch.no_grad():\n",
    "            for validation_features, validation_params, validation_labels in tqdm(test_dataLoader):\n",
    "                y_pred = model(validation_features, validation_params)\n",
    "                loss = loss_fn(y_pred, validation_labels)\n",
    "                validation_loss.append(loss.item())\n",
    "    plot_results()\n",
    "\n",
    "    writer.add_scalar('training_loss', np.nanmean(training_loss),epoch)\n",
    "    writer.add_scalar('validation_loss', np.nanmean(validation_loss),epoch)\n"
   ]
  }
 ],
 "metadata": {
  "interpreter": {
   "hash": "be54625d91506956c6b38031d54a7f50244a06e8a2bd10973b0318519673ad6a"
  },
  "kernelspec": {
   "display_name": "Python 3.9.4 64-bit ('torch_env': venv)",
   "name": "python3"
  },
  "language_info": {
   "codemirror_mode": {
    "name": "ipython",
    "version": 3
   },
   "file_extension": ".py",
   "mimetype": "text/x-python",
   "name": "python",
   "nbconvert_exporter": "python",
   "pygments_lexer": "ipython3",
   "version": "3.9.4"
  }
 },
 "nbformat": 4,
 "nbformat_minor": 0
}
