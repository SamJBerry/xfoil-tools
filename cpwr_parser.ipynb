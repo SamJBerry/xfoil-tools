{
 "cells": [
  {
   "cell_type": "code",
   "execution_count": 120,
   "metadata": {
    "collapsed": true
   },
   "outputs": [
    {
     "data": {
      "text/plain": "         x        y       Cp\n0  1.00000  0.00126  0.18383\n1  0.99401  0.00269  0.17362\n2  0.98346  0.00520  0.15342\n3  0.97101  0.00810  0.12804\n4  0.95698  0.01133  0.09820",
      "text/html": "<div>\n<style>\n    .dataframe thead tr:only-child th {\n        text-align: right;\n    }\n\n    .dataframe thead th {\n        text-align: left;\n    }\n\n    .dataframe tbody tr th {\n        vertical-align: top;\n    }\n</style>\n<table border=\"1\" class=\"dataframe\">\n  <thead>\n    <tr style=\"text-align: right;\">\n      <th></th>\n      <th>x</th>\n      <th>y</th>\n      <th>Cp</th>\n    </tr>\n  </thead>\n  <tbody>\n    <tr>\n      <th>0</th>\n      <td>1.00000</td>\n      <td>0.00126</td>\n      <td>0.18383</td>\n    </tr>\n    <tr>\n      <th>1</th>\n      <td>0.99401</td>\n      <td>0.00269</td>\n      <td>0.17362</td>\n    </tr>\n    <tr>\n      <th>2</th>\n      <td>0.98346</td>\n      <td>0.00520</td>\n      <td>0.15342</td>\n    </tr>\n    <tr>\n      <th>3</th>\n      <td>0.97101</td>\n      <td>0.00810</td>\n      <td>0.12804</td>\n    </tr>\n    <tr>\n      <th>4</th>\n      <td>0.95698</td>\n      <td>0.01133</td>\n      <td>0.09820</td>\n    </tr>\n  </tbody>\n</table>\n</div>"
     },
     "execution_count": 120,
     "metadata": {},
     "output_type": "execute_result"
    }
   ],
   "source": [
    "import pandas as pd\n",
    "import matplotlib.pyplot as plt\n",
    "\n",
    "file = \"results/cpwr_4212_1.00e+06_0.5_2.dat\"\n",
    "df = pd.read_csv(file, sep=\"\\s+\", skiprows=[0,1,2], names=[\"x\", \"y\", \"Cp\"], dtype=float)\n",
    "df.head()"
   ]
  },
  {
   "cell_type": "code",
   "execution_count": 121,
   "outputs": [
    {
     "name": "stdout",
     "output_type": "stream",
     "text": [
      "NACA4212, Re:1.00e+06, M:0.5, alpha:2\n"
     ]
    }
   ],
   "source": [
    "file_data = file.split(\"_\")\n",
    "naca = file_data[1]\n",
    "reynolds = file_data[2]\n",
    "mach = file_data[3]\n",
    "alpha = file_data[4].split(\".\")[0]\n",
    "print(f\"NACA{naca}, Re:{reynolds}, M:{mach}, alpha:{alpha}\")"
   ],
   "metadata": {
    "collapsed": false,
    "pycharm": {
     "name": "#%%\n"
    }
   }
  },
  {
   "cell_type": "code",
   "execution_count": 125,
   "outputs": [
    {
     "data": {
      "text/plain": "<matplotlib.figure.Figure at 0xc6615b0>",
      "image/png": "[encoded data removed]"
     },
     "metadata": {},
     "output_type": "display_data"
    }
   ],
   "source": [
    "fig, ax1 = plt.subplots()\n",
    "ax1.plot(df[\"x\"], df[\"Cp\"])\n",
    "ax1.set_ylabel(\"Cp\")\n",
    "ax1.set_xlabel(\"x\")\n",
    "cp_lim = ax1.get_ylim()\n",
    "ax1.set_ylim(cp_lim[1], cp_lim[0])\n",
    "ax2= ax1.twinx()\n",
    "ax2.plot(df[\"x\"], df[\"y\"], color=\"k\")\n",
    "ax2.set_ylim(-0.4,0.4)\n",
    "ax2.axis('off')\n",
    "plt.show()"
   ],
   "metadata": {
    "collapsed": false,
    "pycharm": {
     "name": "#%%\n"
    }
   }
  },
  {
   "cell_type": "code",
   "execution_count": 123,
   "outputs": [
    {
     "name": "stdout",
     "output_type": "stream",
     "text": [
      "Cl: 0.7225946940500001\n"
     ]
    }
   ],
   "source": [
    "import numpy as np\n",
    "cl = np.trapz(df[\"Cp\"], df[\"x\"])\n",
    "print(f\"Cl: {cl}\")"
   ],
   "metadata": {
    "collapsed": false,
    "pycharm": {
     "name": "#%%\n"
    }
   }
  }
 ],
 "metadata": {
  "kernelspec": {
   "display_name": "Python 3",
   "language": "python",
   "name": "python3"
  },
  "language_info": {
   "codemirror_mode": {
    "name": "ipython",
    "version": 2
   },
   "file_extension": ".py",
   "mimetype": "text/x-python",
   "name": "python",
   "nbconvert_exporter": "python",
   "pygments_lexer": "ipython2",
   "version": "2.7.6"
  }
 },
 "nbformat": 4,
 "nbformat_minor": 0
}